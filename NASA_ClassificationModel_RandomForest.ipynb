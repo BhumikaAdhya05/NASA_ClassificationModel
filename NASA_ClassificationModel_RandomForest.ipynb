{
  "nbformat": 4,
  "nbformat_minor": 0,
  "metadata": {
    "colab": {
      "provenance": []
    },
    "kernelspec": {
      "name": "ir",
      "display_name": "R"
    },
    "language_info": {
      "name": "R"
    }
  },
  "cells": [
    {
      "cell_type": "code",
      "source": [
        "# Install R and the necessary R packages\n",
        "!apt-get install -y r-base\n",
        "!apt-get install -y libcurl4-openssl-dev libssl-dev libxml2-dev"
      ],
      "metadata": {
        "colab": {
          "base_uri": "https://localhost:8080/"
        },
        "id": "dST16Gk5OF-c",
        "outputId": "3462669b-6a97-4eaf-b20f-30e4c343d7a1"
      },
      "execution_count": null,
      "outputs": [
        {
          "output_type": "stream",
          "name": "stdout",
          "text": [
            "Reading package lists... Done\n",
            "Building dependency tree... Done\n",
            "Reading state information... Done\n",
            "r-base is already the newest version (4.4.3-1.2204.0).\n",
            "0 upgraded, 0 newly installed, 0 to remove and 29 not upgraded.\n",
            "Reading package lists... Done\n",
            "Building dependency tree... Done\n",
            "Reading state information... Done\n",
            "libcurl4-openssl-dev is already the newest version (7.81.0-1ubuntu1.20).\n",
            "libssl-dev is already the newest version (3.0.2-0ubuntu1.19).\n",
            "libxml2-dev is already the newest version (2.9.13+dfsg-1ubuntu0.6).\n",
            "0 upgraded, 0 newly installed, 0 to remove and 29 not upgraded.\n"
          ]
        }
      ]
    },
    {
      "cell_type": "code",
      "source": [
        "# Install R packages (e.g., catboost, dplyr, etc.)\n",
        "install.packages(\"catboost\")\n",
        "install.packages(\"dplyr\")\n",
        "install.packages(\"caret\")"
      ],
      "metadata": {
        "colab": {
          "base_uri": "https://localhost:8080/"
        },
        "id": "JHB9cf0sQRPe",
        "outputId": "7c789a6b-6259-437c-a095-946e89ee0753"
      },
      "execution_count": null,
      "outputs": [
        {
          "output_type": "stream",
          "name": "stderr",
          "text": [
            "Installing package into ‘/usr/local/lib/R/site-library’\n",
            "(as ‘lib’ is unspecified)\n",
            "\n",
            "Warning message:\n",
            "“package ‘catboost’ is not available for this version of R\n",
            "\n",
            "A version of this package for your version of R might be available elsewhere,\n",
            "see the ideas at\n",
            "https://cran.r-project.org/doc/manuals/r-patched/R-admin.html#Installing-packages”\n",
            "Installing package into ‘/usr/local/lib/R/site-library’\n",
            "(as ‘lib’ is unspecified)\n",
            "\n",
            "Installing package into ‘/usr/local/lib/R/site-library’\n",
            "(as ‘lib’ is unspecified)\n",
            "\n",
            "also installing the dependencies ‘listenv’, ‘parallelly’, ‘future’, ‘globals’, ‘shape’, ‘future.apply’, ‘numDeriv’, ‘progressr’, ‘SQUAREM’, ‘diagram’, ‘lava’, ‘prodlim’, ‘proxy’, ‘iterators’, ‘clock’, ‘gower’, ‘hardhat’, ‘ipred’, ‘sparsevctrs’, ‘timeDate’, ‘e1071’, ‘foreach’, ‘ModelMetrics’, ‘plyr’, ‘pROC’, ‘recipes’, ‘reshape2’\n",
            "\n",
            "\n"
          ]
        }
      ]
    },
    {
      "cell_type": "code",
      "source": [
        "# Install CatBoost using the devtools package (if it is not available via CRAN)\n",
        "install.packages(\"devtools\")\n",
        "devtools::install_github(\"catboost/catboost\", subdir = \"catboost/R-package\")"
      ],
      "metadata": {
        "colab": {
          "base_uri": "https://localhost:8080/"
        },
        "id": "WqqDA9RCTE4D",
        "outputId": "affbc41c-feae-4592-e301-557bc483d162"
      },
      "execution_count": null,
      "outputs": [
        {
          "output_type": "stream",
          "name": "stderr",
          "text": [
            "Installing package into ‘/usr/local/lib/R/site-library’\n",
            "(as ‘lib’ is unspecified)\n",
            "\n",
            "Downloading GitHub repo catboost/catboost@HEAD\n",
            "\n"
          ]
        },
        {
          "output_type": "stream",
          "name": "stdout",
          "text": [
            "jsonlite (1.9.1 -> 2.0.0) [CRAN]\n"
          ]
        },
        {
          "output_type": "stream",
          "name": "stderr",
          "text": [
            "Installing 1 packages: jsonlite\n",
            "\n",
            "Installing package into ‘/usr/local/lib/R/site-library’\n",
            "(as ‘lib’ is unspecified)\n",
            "\n"
          ]
        },
        {
          "output_type": "stream",
          "name": "stdout",
          "text": [
            "\u001b[36m──\u001b[39m \u001b[36mR CMD build\u001b[39m \u001b[36m─────────────────────────────────────────────────────────────────\u001b[39m\n",
            "* checking for file ‘/tmp/RtmpO8D1U2/remotesd8d1ea4b38c/catboost-catboost-6727680/catboost/R-package/DESCRIPTION’ ... OK\n",
            "* preparing ‘catboost’:\n",
            "* checking DESCRIPTION meta-information ... OK\n",
            "* cleaning src\n",
            "* checking for LF line-endings in source and make files and shell scripts\n",
            "* checking for empty or unneeded directories\n",
            "* building ‘catboost_1.2.7.tar.gz’\n",
            "\n"
          ]
        },
        {
          "output_type": "stream",
          "name": "stderr",
          "text": [
            "Installing package into ‘/usr/local/lib/R/site-library’\n",
            "(as ‘lib’ is unspecified)\n",
            "\n"
          ]
        }
      ]
    },
    {
      "cell_type": "code",
      "source": [
        "# Upload CSV file\n",
        "data <- read.csv(\"final_data.xlsx - MoonQuake.csv\")"
      ],
      "metadata": {
        "id": "R82hmKcmU0UT"
      },
      "execution_count": null,
      "outputs": []
    },
    {
      "cell_type": "code",
      "source": [
        "# Display the first few rows to verify the data\n",
        "head(data)"
      ],
      "metadata": {
        "colab": {
          "base_uri": "https://localhost:8080/",
          "height": 514
        },
        "id": "dFkOPTjcWQKY",
        "outputId": "37ec7252-dcbb-444e-89e0-dec7025ee986"
      },
      "execution_count": null,
      "outputs": [
        {
          "output_type": "display_data",
          "data": {
            "text/html": [
              "<table class=\"dataframe\">\n",
              "<caption>A data.frame: 6 × 17</caption>\n",
              "<thead>\n",
              "\t<tr><th></th><th scope=col>File.Name</th><th scope=col>Mean.Velocity</th><th scope=col>Standard.Deviation</th><th scope=col>Max.Velocity</th><th scope=col>Min.Velocity</th><th scope=col>Range.Velocity</th><th scope=col>Median.Velocity</th><th scope=col>RMS.Velocity</th><th scope=col>Energy</th><th scope=col>Impulse.Factor</th><th scope=col>Velocity.Derivative.Mean</th><th scope=col>Velocity.Derivative.Std</th><th scope=col>Mean.Velocity.Around.Arrival</th><th scope=col>Max.Velocity.Around.Arrival</th><th scope=col>Arrival.Time</th><th scope=col>Max.STA.LTA</th><th scope=col>mq_type</th></tr>\n",
              "\t<tr><th></th><th scope=col>&lt;chr&gt;</th><th scope=col>&lt;int&gt;</th><th scope=col>&lt;dbl&gt;</th><th scope=col>&lt;dbl&gt;</th><th scope=col>&lt;dbl&gt;</th><th scope=col>&lt;dbl&gt;</th><th scope=col>&lt;int&gt;</th><th scope=col>&lt;dbl&gt;</th><th scope=col>&lt;int&gt;</th><th scope=col>&lt;dbl&gt;</th><th scope=col>&lt;int&gt;</th><th scope=col>&lt;dbl&gt;</th><th scope=col>&lt;dbl&gt;</th><th scope=col>&lt;dbl&gt;</th><th scope=col>&lt;int&gt;</th><th scope=col>&lt;dbl&gt;</th><th scope=col>&lt;chr&gt;</th></tr>\n",
              "</thead>\n",
              "<tbody>\n",
              "\t<tr><th scope=row>1</th><td>xa.s12.00.mhz.1970-01-19HR00_evid00002</td><td>0</td><td>3.530056e-10</td><td>7.874026e-09</td><td>-8.185283e-09</td><td>1.605931e-08</td><td>0</td><td>3.530066e-10</td><td>0</td><td>0.05000044</td><td>0</td><td>1.617267e-09</td><td>0</td><td>1.509733e-09</td><td>73500</td><td>10.20039</td><td>impact_mq</td></tr>\n",
              "\t<tr><th scope=row>2</th><td>xa.s12.00.mhz.1970-03-25HR00_evid00003</td><td>0</td><td>3.865137e-10</td><td>4.707866e-09</td><td>-4.603228e-09</td><td>9.311095e-09</td><td>0</td><td>3.865185e-10</td><td>0</td><td>0.05000079</td><td>0</td><td>1.300470e-09</td><td>0</td><td>8.028672e-10</td><td>73500</td><td>10.24435</td><td>impact_mq</td></tr>\n",
              "\t<tr><th scope=row>3</th><td>xa.s12.00.mhz.1970-03-26HR00_evid00004</td><td>0</td><td>3.219582e-10</td><td>5.969005e-09</td><td>-6.144452e-09</td><td>1.211346e-08</td><td>0</td><td>3.219583e-10</td><td>0</td><td>0.05000079</td><td>0</td><td>1.377912e-09</td><td>0</td><td>3.978438e-09</td><td>73500</td><td>10.16017</td><td>impact_mq</td></tr>\n",
              "\t<tr><th scope=row>4</th><td>xa.s12.00.mhz.1970-04-25HR00_evid00006</td><td>0</td><td>3.383782e-10</td><td>6.853803e-09</td><td>-6.155705e-09</td><td>1.300951e-08</td><td>0</td><td>3.383782e-10</td><td>0</td><td>0.05000044</td><td>0</td><td>1.571516e-09</td><td>0</td><td>4.175311e-10</td><td>73500</td><td>10.08300</td><td>impact_mq</td></tr>\n",
              "\t<tr><th scope=row>5</th><td>xa.s12.00.mhz.1970-04-26HR00_evid00007</td><td>0</td><td>3.009879e-10</td><td>5.491012e-09</td><td>-4.475551e-09</td><td>9.966563e-09</td><td>0</td><td>3.009887e-10</td><td>0</td><td>0.05000079</td><td>0</td><td>1.254288e-09</td><td>0</td><td>4.500003e-10</td><td>73500</td><td>10.32268</td><td>deep_mq  </td></tr>\n",
              "\t<tr><th scope=row>6</th><td>xa.s12.00.mhz.1970-06-15HR00_evid00008</td><td>0</td><td>5.558376e-10</td><td>1.926139e-08</td><td>-1.909494e-08</td><td>3.835633e-08</td><td>0</td><td>5.558381e-10</td><td>0</td><td>0.05000017</td><td>0</td><td>2.718284e-09</td><td>0</td><td>5.616385e-10</td><td>73500</td><td>20.70292</td><td>impact_mq</td></tr>\n",
              "</tbody>\n",
              "</table>\n"
            ],
            "text/markdown": "\nA data.frame: 6 × 17\n\n| <!--/--> | File.Name &lt;chr&gt; | Mean.Velocity &lt;int&gt; | Standard.Deviation &lt;dbl&gt; | Max.Velocity &lt;dbl&gt; | Min.Velocity &lt;dbl&gt; | Range.Velocity &lt;dbl&gt; | Median.Velocity &lt;int&gt; | RMS.Velocity &lt;dbl&gt; | Energy &lt;int&gt; | Impulse.Factor &lt;dbl&gt; | Velocity.Derivative.Mean &lt;int&gt; | Velocity.Derivative.Std &lt;dbl&gt; | Mean.Velocity.Around.Arrival &lt;dbl&gt; | Max.Velocity.Around.Arrival &lt;dbl&gt; | Arrival.Time &lt;int&gt; | Max.STA.LTA &lt;dbl&gt; | mq_type &lt;chr&gt; |\n|---|---|---|---|---|---|---|---|---|---|---|---|---|---|---|---|---|---|\n| 1 | xa.s12.00.mhz.1970-01-19HR00_evid00002 | 0 | 3.530056e-10 | 7.874026e-09 | -8.185283e-09 | 1.605931e-08 | 0 | 3.530066e-10 | 0 | 0.05000044 | 0 | 1.617267e-09 | 0 | 1.509733e-09 | 73500 | 10.20039 | impact_mq |\n| 2 | xa.s12.00.mhz.1970-03-25HR00_evid00003 | 0 | 3.865137e-10 | 4.707866e-09 | -4.603228e-09 | 9.311095e-09 | 0 | 3.865185e-10 | 0 | 0.05000079 | 0 | 1.300470e-09 | 0 | 8.028672e-10 | 73500 | 10.24435 | impact_mq |\n| 3 | xa.s12.00.mhz.1970-03-26HR00_evid00004 | 0 | 3.219582e-10 | 5.969005e-09 | -6.144452e-09 | 1.211346e-08 | 0 | 3.219583e-10 | 0 | 0.05000079 | 0 | 1.377912e-09 | 0 | 3.978438e-09 | 73500 | 10.16017 | impact_mq |\n| 4 | xa.s12.00.mhz.1970-04-25HR00_evid00006 | 0 | 3.383782e-10 | 6.853803e-09 | -6.155705e-09 | 1.300951e-08 | 0 | 3.383782e-10 | 0 | 0.05000044 | 0 | 1.571516e-09 | 0 | 4.175311e-10 | 73500 | 10.08300 | impact_mq |\n| 5 | xa.s12.00.mhz.1970-04-26HR00_evid00007 | 0 | 3.009879e-10 | 5.491012e-09 | -4.475551e-09 | 9.966563e-09 | 0 | 3.009887e-10 | 0 | 0.05000079 | 0 | 1.254288e-09 | 0 | 4.500003e-10 | 73500 | 10.32268 | deep_mq   |\n| 6 | xa.s12.00.mhz.1970-06-15HR00_evid00008 | 0 | 5.558376e-10 | 1.926139e-08 | -1.909494e-08 | 3.835633e-08 | 0 | 5.558381e-10 | 0 | 0.05000017 | 0 | 2.718284e-09 | 0 | 5.616385e-10 | 73500 | 20.70292 | impact_mq |\n\n",
            "text/latex": "A data.frame: 6 × 17\n\\begin{tabular}{r|lllllllllllllllll}\n  & File.Name & Mean.Velocity & Standard.Deviation & Max.Velocity & Min.Velocity & Range.Velocity & Median.Velocity & RMS.Velocity & Energy & Impulse.Factor & Velocity.Derivative.Mean & Velocity.Derivative.Std & Mean.Velocity.Around.Arrival & Max.Velocity.Around.Arrival & Arrival.Time & Max.STA.LTA & mq\\_type\\\\\n  & <chr> & <int> & <dbl> & <dbl> & <dbl> & <dbl> & <int> & <dbl> & <int> & <dbl> & <int> & <dbl> & <dbl> & <dbl> & <int> & <dbl> & <chr>\\\\\n\\hline\n\t1 & xa.s12.00.mhz.1970-01-19HR00\\_evid00002 & 0 & 3.530056e-10 & 7.874026e-09 & -8.185283e-09 & 1.605931e-08 & 0 & 3.530066e-10 & 0 & 0.05000044 & 0 & 1.617267e-09 & 0 & 1.509733e-09 & 73500 & 10.20039 & impact\\_mq\\\\\n\t2 & xa.s12.00.mhz.1970-03-25HR00\\_evid00003 & 0 & 3.865137e-10 & 4.707866e-09 & -4.603228e-09 & 9.311095e-09 & 0 & 3.865185e-10 & 0 & 0.05000079 & 0 & 1.300470e-09 & 0 & 8.028672e-10 & 73500 & 10.24435 & impact\\_mq\\\\\n\t3 & xa.s12.00.mhz.1970-03-26HR00\\_evid00004 & 0 & 3.219582e-10 & 5.969005e-09 & -6.144452e-09 & 1.211346e-08 & 0 & 3.219583e-10 & 0 & 0.05000079 & 0 & 1.377912e-09 & 0 & 3.978438e-09 & 73500 & 10.16017 & impact\\_mq\\\\\n\t4 & xa.s12.00.mhz.1970-04-25HR00\\_evid00006 & 0 & 3.383782e-10 & 6.853803e-09 & -6.155705e-09 & 1.300951e-08 & 0 & 3.383782e-10 & 0 & 0.05000044 & 0 & 1.571516e-09 & 0 & 4.175311e-10 & 73500 & 10.08300 & impact\\_mq\\\\\n\t5 & xa.s12.00.mhz.1970-04-26HR00\\_evid00007 & 0 & 3.009879e-10 & 5.491012e-09 & -4.475551e-09 & 9.966563e-09 & 0 & 3.009887e-10 & 0 & 0.05000079 & 0 & 1.254288e-09 & 0 & 4.500003e-10 & 73500 & 10.32268 & deep\\_mq  \\\\\n\t6 & xa.s12.00.mhz.1970-06-15HR00\\_evid00008 & 0 & 5.558376e-10 & 1.926139e-08 & -1.909494e-08 & 3.835633e-08 & 0 & 5.558381e-10 & 0 & 0.05000017 & 0 & 2.718284e-09 & 0 & 5.616385e-10 & 73500 & 20.70292 & impact\\_mq\\\\\n\\end{tabular}\n",
            "text/plain": [
              "  File.Name                              Mean.Velocity Standard.Deviation\n",
              "1 xa.s12.00.mhz.1970-01-19HR00_evid00002 0             3.530056e-10      \n",
              "2 xa.s12.00.mhz.1970-03-25HR00_evid00003 0             3.865137e-10      \n",
              "3 xa.s12.00.mhz.1970-03-26HR00_evid00004 0             3.219582e-10      \n",
              "4 xa.s12.00.mhz.1970-04-25HR00_evid00006 0             3.383782e-10      \n",
              "5 xa.s12.00.mhz.1970-04-26HR00_evid00007 0             3.009879e-10      \n",
              "6 xa.s12.00.mhz.1970-06-15HR00_evid00008 0             5.558376e-10      \n",
              "  Max.Velocity Min.Velocity  Range.Velocity Median.Velocity RMS.Velocity Energy\n",
              "1 7.874026e-09 -8.185283e-09 1.605931e-08   0               3.530066e-10 0     \n",
              "2 4.707866e-09 -4.603228e-09 9.311095e-09   0               3.865185e-10 0     \n",
              "3 5.969005e-09 -6.144452e-09 1.211346e-08   0               3.219583e-10 0     \n",
              "4 6.853803e-09 -6.155705e-09 1.300951e-08   0               3.383782e-10 0     \n",
              "5 5.491012e-09 -4.475551e-09 9.966563e-09   0               3.009887e-10 0     \n",
              "6 1.926139e-08 -1.909494e-08 3.835633e-08   0               5.558381e-10 0     \n",
              "  Impulse.Factor Velocity.Derivative.Mean Velocity.Derivative.Std\n",
              "1 0.05000044     0                        1.617267e-09           \n",
              "2 0.05000079     0                        1.300470e-09           \n",
              "3 0.05000079     0                        1.377912e-09           \n",
              "4 0.05000044     0                        1.571516e-09           \n",
              "5 0.05000079     0                        1.254288e-09           \n",
              "6 0.05000017     0                        2.718284e-09           \n",
              "  Mean.Velocity.Around.Arrival Max.Velocity.Around.Arrival Arrival.Time\n",
              "1 0                            1.509733e-09                73500       \n",
              "2 0                            8.028672e-10                73500       \n",
              "3 0                            3.978438e-09                73500       \n",
              "4 0                            4.175311e-10                73500       \n",
              "5 0                            4.500003e-10                73500       \n",
              "6 0                            5.616385e-10                73500       \n",
              "  Max.STA.LTA mq_type  \n",
              "1 10.20039    impact_mq\n",
              "2 10.24435    impact_mq\n",
              "3 10.16017    impact_mq\n",
              "4 10.08300    impact_mq\n",
              "5 10.32268    deep_mq  \n",
              "6 20.70292    impact_mq"
            ]
          },
          "metadata": {}
        }
      ]
    },
    {
      "cell_type": "code",
      "source": [
        "# Install necessary packages if not already installed\n",
        "install.packages(\"randomForest\")"
      ],
      "metadata": {
        "colab": {
          "base_uri": "https://localhost:8080/"
        },
        "id": "YlkRDmsFWQ7O",
        "outputId": "c3f7f258-2dca-4fd9-c6ae-6f637ab3966f"
      },
      "execution_count": null,
      "outputs": [
        {
          "output_type": "stream",
          "name": "stderr",
          "text": [
            "Installing package into ‘/usr/local/lib/R/site-library’\n",
            "(as ‘lib’ is unspecified)\n",
            "\n"
          ]
        }
      ]
    },
    {
      "cell_type": "code",
      "source": [
        "# Load necessary libraries\n",
        "library(randomForest)\n",
        "library(caret)\n",
        "library(dplyr)"
      ],
      "metadata": {
        "colab": {
          "base_uri": "https://localhost:8080/"
        },
        "id": "dIpRL5N1XVGt",
        "outputId": "7084208c-3173-45bf-9840-a92017ec3fbc"
      },
      "execution_count": null,
      "outputs": [
        {
          "output_type": "stream",
          "name": "stderr",
          "text": [
            "Loading required package: ggplot2\n",
            "\n",
            "\n",
            "Attaching package: ‘ggplot2’\n",
            "\n",
            "\n",
            "The following object is masked from ‘package:randomForest’:\n",
            "\n",
            "    margin\n",
            "\n",
            "\n",
            "Loading required package: lattice\n",
            "\n",
            "\n",
            "Attaching package: ‘dplyr’\n",
            "\n",
            "\n",
            "The following object is masked from ‘package:randomForest’:\n",
            "\n",
            "    combine\n",
            "\n",
            "\n",
            "The following objects are masked from ‘package:stats’:\n",
            "\n",
            "    filter, lag\n",
            "\n",
            "\n",
            "The following objects are masked from ‘package:base’:\n",
            "\n",
            "    intersect, setdiff, setequal, union\n",
            "\n",
            "\n"
          ]
        }
      ]
    },
    {
      "cell_type": "code",
      "source": [
        "# Display the first few rows of the data to understand its structure\n",
        "head(data)"
      ],
      "metadata": {
        "colab": {
          "base_uri": "https://localhost:8080/",
          "height": 514
        },
        "id": "BaJO9eXqXZNJ",
        "outputId": "d4793578-eee7-4ff9-a692-df36cdaa9314"
      },
      "execution_count": null,
      "outputs": [
        {
          "output_type": "display_data",
          "data": {
            "text/html": [
              "<table class=\"dataframe\">\n",
              "<caption>A data.frame: 6 × 17</caption>\n",
              "<thead>\n",
              "\t<tr><th></th><th scope=col>File.Name</th><th scope=col>Mean.Velocity</th><th scope=col>Standard.Deviation</th><th scope=col>Max.Velocity</th><th scope=col>Min.Velocity</th><th scope=col>Range.Velocity</th><th scope=col>Median.Velocity</th><th scope=col>RMS.Velocity</th><th scope=col>Energy</th><th scope=col>Impulse.Factor</th><th scope=col>Velocity.Derivative.Mean</th><th scope=col>Velocity.Derivative.Std</th><th scope=col>Mean.Velocity.Around.Arrival</th><th scope=col>Max.Velocity.Around.Arrival</th><th scope=col>Arrival.Time</th><th scope=col>Max.STA.LTA</th><th scope=col>mq_type</th></tr>\n",
              "\t<tr><th></th><th scope=col>&lt;chr&gt;</th><th scope=col>&lt;int&gt;</th><th scope=col>&lt;dbl&gt;</th><th scope=col>&lt;dbl&gt;</th><th scope=col>&lt;dbl&gt;</th><th scope=col>&lt;dbl&gt;</th><th scope=col>&lt;int&gt;</th><th scope=col>&lt;dbl&gt;</th><th scope=col>&lt;int&gt;</th><th scope=col>&lt;dbl&gt;</th><th scope=col>&lt;int&gt;</th><th scope=col>&lt;dbl&gt;</th><th scope=col>&lt;dbl&gt;</th><th scope=col>&lt;dbl&gt;</th><th scope=col>&lt;int&gt;</th><th scope=col>&lt;dbl&gt;</th><th scope=col>&lt;chr&gt;</th></tr>\n",
              "</thead>\n",
              "<tbody>\n",
              "\t<tr><th scope=row>1</th><td>xa.s12.00.mhz.1970-01-19HR00_evid00002</td><td>0</td><td>3.530056e-10</td><td>7.874026e-09</td><td>-8.185283e-09</td><td>1.605931e-08</td><td>0</td><td>3.530066e-10</td><td>0</td><td>0.05000044</td><td>0</td><td>1.617267e-09</td><td>0</td><td>1.509733e-09</td><td>73500</td><td>10.20039</td><td>impact_mq</td></tr>\n",
              "\t<tr><th scope=row>2</th><td>xa.s12.00.mhz.1970-03-25HR00_evid00003</td><td>0</td><td>3.865137e-10</td><td>4.707866e-09</td><td>-4.603228e-09</td><td>9.311095e-09</td><td>0</td><td>3.865185e-10</td><td>0</td><td>0.05000079</td><td>0</td><td>1.300470e-09</td><td>0</td><td>8.028672e-10</td><td>73500</td><td>10.24435</td><td>impact_mq</td></tr>\n",
              "\t<tr><th scope=row>3</th><td>xa.s12.00.mhz.1970-03-26HR00_evid00004</td><td>0</td><td>3.219582e-10</td><td>5.969005e-09</td><td>-6.144452e-09</td><td>1.211346e-08</td><td>0</td><td>3.219583e-10</td><td>0</td><td>0.05000079</td><td>0</td><td>1.377912e-09</td><td>0</td><td>3.978438e-09</td><td>73500</td><td>10.16017</td><td>impact_mq</td></tr>\n",
              "\t<tr><th scope=row>4</th><td>xa.s12.00.mhz.1970-04-25HR00_evid00006</td><td>0</td><td>3.383782e-10</td><td>6.853803e-09</td><td>-6.155705e-09</td><td>1.300951e-08</td><td>0</td><td>3.383782e-10</td><td>0</td><td>0.05000044</td><td>0</td><td>1.571516e-09</td><td>0</td><td>4.175311e-10</td><td>73500</td><td>10.08300</td><td>impact_mq</td></tr>\n",
              "\t<tr><th scope=row>5</th><td>xa.s12.00.mhz.1970-04-26HR00_evid00007</td><td>0</td><td>3.009879e-10</td><td>5.491012e-09</td><td>-4.475551e-09</td><td>9.966563e-09</td><td>0</td><td>3.009887e-10</td><td>0</td><td>0.05000079</td><td>0</td><td>1.254288e-09</td><td>0</td><td>4.500003e-10</td><td>73500</td><td>10.32268</td><td>deep_mq  </td></tr>\n",
              "\t<tr><th scope=row>6</th><td>xa.s12.00.mhz.1970-06-15HR00_evid00008</td><td>0</td><td>5.558376e-10</td><td>1.926139e-08</td><td>-1.909494e-08</td><td>3.835633e-08</td><td>0</td><td>5.558381e-10</td><td>0</td><td>0.05000017</td><td>0</td><td>2.718284e-09</td><td>0</td><td>5.616385e-10</td><td>73500</td><td>20.70292</td><td>impact_mq</td></tr>\n",
              "</tbody>\n",
              "</table>\n"
            ],
            "text/markdown": "\nA data.frame: 6 × 17\n\n| <!--/--> | File.Name &lt;chr&gt; | Mean.Velocity &lt;int&gt; | Standard.Deviation &lt;dbl&gt; | Max.Velocity &lt;dbl&gt; | Min.Velocity &lt;dbl&gt; | Range.Velocity &lt;dbl&gt; | Median.Velocity &lt;int&gt; | RMS.Velocity &lt;dbl&gt; | Energy &lt;int&gt; | Impulse.Factor &lt;dbl&gt; | Velocity.Derivative.Mean &lt;int&gt; | Velocity.Derivative.Std &lt;dbl&gt; | Mean.Velocity.Around.Arrival &lt;dbl&gt; | Max.Velocity.Around.Arrival &lt;dbl&gt; | Arrival.Time &lt;int&gt; | Max.STA.LTA &lt;dbl&gt; | mq_type &lt;chr&gt; |\n|---|---|---|---|---|---|---|---|---|---|---|---|---|---|---|---|---|---|\n| 1 | xa.s12.00.mhz.1970-01-19HR00_evid00002 | 0 | 3.530056e-10 | 7.874026e-09 | -8.185283e-09 | 1.605931e-08 | 0 | 3.530066e-10 | 0 | 0.05000044 | 0 | 1.617267e-09 | 0 | 1.509733e-09 | 73500 | 10.20039 | impact_mq |\n| 2 | xa.s12.00.mhz.1970-03-25HR00_evid00003 | 0 | 3.865137e-10 | 4.707866e-09 | -4.603228e-09 | 9.311095e-09 | 0 | 3.865185e-10 | 0 | 0.05000079 | 0 | 1.300470e-09 | 0 | 8.028672e-10 | 73500 | 10.24435 | impact_mq |\n| 3 | xa.s12.00.mhz.1970-03-26HR00_evid00004 | 0 | 3.219582e-10 | 5.969005e-09 | -6.144452e-09 | 1.211346e-08 | 0 | 3.219583e-10 | 0 | 0.05000079 | 0 | 1.377912e-09 | 0 | 3.978438e-09 | 73500 | 10.16017 | impact_mq |\n| 4 | xa.s12.00.mhz.1970-04-25HR00_evid00006 | 0 | 3.383782e-10 | 6.853803e-09 | -6.155705e-09 | 1.300951e-08 | 0 | 3.383782e-10 | 0 | 0.05000044 | 0 | 1.571516e-09 | 0 | 4.175311e-10 | 73500 | 10.08300 | impact_mq |\n| 5 | xa.s12.00.mhz.1970-04-26HR00_evid00007 | 0 | 3.009879e-10 | 5.491012e-09 | -4.475551e-09 | 9.966563e-09 | 0 | 3.009887e-10 | 0 | 0.05000079 | 0 | 1.254288e-09 | 0 | 4.500003e-10 | 73500 | 10.32268 | deep_mq   |\n| 6 | xa.s12.00.mhz.1970-06-15HR00_evid00008 | 0 | 5.558376e-10 | 1.926139e-08 | -1.909494e-08 | 3.835633e-08 | 0 | 5.558381e-10 | 0 | 0.05000017 | 0 | 2.718284e-09 | 0 | 5.616385e-10 | 73500 | 20.70292 | impact_mq |\n\n",
            "text/latex": "A data.frame: 6 × 17\n\\begin{tabular}{r|lllllllllllllllll}\n  & File.Name & Mean.Velocity & Standard.Deviation & Max.Velocity & Min.Velocity & Range.Velocity & Median.Velocity & RMS.Velocity & Energy & Impulse.Factor & Velocity.Derivative.Mean & Velocity.Derivative.Std & Mean.Velocity.Around.Arrival & Max.Velocity.Around.Arrival & Arrival.Time & Max.STA.LTA & mq\\_type\\\\\n  & <chr> & <int> & <dbl> & <dbl> & <dbl> & <dbl> & <int> & <dbl> & <int> & <dbl> & <int> & <dbl> & <dbl> & <dbl> & <int> & <dbl> & <chr>\\\\\n\\hline\n\t1 & xa.s12.00.mhz.1970-01-19HR00\\_evid00002 & 0 & 3.530056e-10 & 7.874026e-09 & -8.185283e-09 & 1.605931e-08 & 0 & 3.530066e-10 & 0 & 0.05000044 & 0 & 1.617267e-09 & 0 & 1.509733e-09 & 73500 & 10.20039 & impact\\_mq\\\\\n\t2 & xa.s12.00.mhz.1970-03-25HR00\\_evid00003 & 0 & 3.865137e-10 & 4.707866e-09 & -4.603228e-09 & 9.311095e-09 & 0 & 3.865185e-10 & 0 & 0.05000079 & 0 & 1.300470e-09 & 0 & 8.028672e-10 & 73500 & 10.24435 & impact\\_mq\\\\\n\t3 & xa.s12.00.mhz.1970-03-26HR00\\_evid00004 & 0 & 3.219582e-10 & 5.969005e-09 & -6.144452e-09 & 1.211346e-08 & 0 & 3.219583e-10 & 0 & 0.05000079 & 0 & 1.377912e-09 & 0 & 3.978438e-09 & 73500 & 10.16017 & impact\\_mq\\\\\n\t4 & xa.s12.00.mhz.1970-04-25HR00\\_evid00006 & 0 & 3.383782e-10 & 6.853803e-09 & -6.155705e-09 & 1.300951e-08 & 0 & 3.383782e-10 & 0 & 0.05000044 & 0 & 1.571516e-09 & 0 & 4.175311e-10 & 73500 & 10.08300 & impact\\_mq\\\\\n\t5 & xa.s12.00.mhz.1970-04-26HR00\\_evid00007 & 0 & 3.009879e-10 & 5.491012e-09 & -4.475551e-09 & 9.966563e-09 & 0 & 3.009887e-10 & 0 & 0.05000079 & 0 & 1.254288e-09 & 0 & 4.500003e-10 & 73500 & 10.32268 & deep\\_mq  \\\\\n\t6 & xa.s12.00.mhz.1970-06-15HR00\\_evid00008 & 0 & 5.558376e-10 & 1.926139e-08 & -1.909494e-08 & 3.835633e-08 & 0 & 5.558381e-10 & 0 & 0.05000017 & 0 & 2.718284e-09 & 0 & 5.616385e-10 & 73500 & 20.70292 & impact\\_mq\\\\\n\\end{tabular}\n",
            "text/plain": [
              "  File.Name                              Mean.Velocity Standard.Deviation\n",
              "1 xa.s12.00.mhz.1970-01-19HR00_evid00002 0             3.530056e-10      \n",
              "2 xa.s12.00.mhz.1970-03-25HR00_evid00003 0             3.865137e-10      \n",
              "3 xa.s12.00.mhz.1970-03-26HR00_evid00004 0             3.219582e-10      \n",
              "4 xa.s12.00.mhz.1970-04-25HR00_evid00006 0             3.383782e-10      \n",
              "5 xa.s12.00.mhz.1970-04-26HR00_evid00007 0             3.009879e-10      \n",
              "6 xa.s12.00.mhz.1970-06-15HR00_evid00008 0             5.558376e-10      \n",
              "  Max.Velocity Min.Velocity  Range.Velocity Median.Velocity RMS.Velocity Energy\n",
              "1 7.874026e-09 -8.185283e-09 1.605931e-08   0               3.530066e-10 0     \n",
              "2 4.707866e-09 -4.603228e-09 9.311095e-09   0               3.865185e-10 0     \n",
              "3 5.969005e-09 -6.144452e-09 1.211346e-08   0               3.219583e-10 0     \n",
              "4 6.853803e-09 -6.155705e-09 1.300951e-08   0               3.383782e-10 0     \n",
              "5 5.491012e-09 -4.475551e-09 9.966563e-09   0               3.009887e-10 0     \n",
              "6 1.926139e-08 -1.909494e-08 3.835633e-08   0               5.558381e-10 0     \n",
              "  Impulse.Factor Velocity.Derivative.Mean Velocity.Derivative.Std\n",
              "1 0.05000044     0                        1.617267e-09           \n",
              "2 0.05000079     0                        1.300470e-09           \n",
              "3 0.05000079     0                        1.377912e-09           \n",
              "4 0.05000044     0                        1.571516e-09           \n",
              "5 0.05000079     0                        1.254288e-09           \n",
              "6 0.05000017     0                        2.718284e-09           \n",
              "  Mean.Velocity.Around.Arrival Max.Velocity.Around.Arrival Arrival.Time\n",
              "1 0                            1.509733e-09                73500       \n",
              "2 0                            8.028672e-10                73500       \n",
              "3 0                            3.978438e-09                73500       \n",
              "4 0                            4.175311e-10                73500       \n",
              "5 0                            4.500003e-10                73500       \n",
              "6 0                            5.616385e-10                73500       \n",
              "  Max.STA.LTA mq_type  \n",
              "1 10.20039    impact_mq\n",
              "2 10.24435    impact_mq\n",
              "3 10.16017    impact_mq\n",
              "4 10.08300    impact_mq\n",
              "5 10.32268    deep_mq  \n",
              "6 20.70292    impact_mq"
            ]
          },
          "metadata": {}
        }
      ]
    },
    {
      "cell_type": "code",
      "source": [
        "# Separate features and target variable\n",
        "X <- data[, !(names(data) %in% c(\"File Name\", \"mq_type\", \"Arrival Time\"))]  # Remove non-feature columns\n",
        "y <- data$mq_type  # The target variable is 'mq_type'"
      ],
      "metadata": {
        "id": "yt-p4-I4XgwW"
      },
      "execution_count": null,
      "outputs": []
    },
    {
      "cell_type": "code",
      "source": [
        "install.packages(\"tidyr\") # Install tidyr package"
      ],
      "metadata": {
        "colab": {
          "base_uri": "https://localhost:8080/"
        },
        "id": "aMMp7lI3XpO9",
        "outputId": "439356a0-0392-44a5-e313-3dbff7416d23"
      },
      "execution_count": null,
      "outputs": [
        {
          "output_type": "stream",
          "name": "stderr",
          "text": [
            "Installing package into ‘/usr/local/lib/R/site-library’\n",
            "(as ‘lib’ is unspecified)\n",
            "\n"
          ]
        }
      ]
    },
    {
      "cell_type": "code",
      "source": [
        "library(tidyr)  # Load tidyr library"
      ],
      "metadata": {
        "id": "7aumO83OX5eH"
      },
      "execution_count": null,
      "outputs": []
    },
    {
      "cell_type": "code",
      "source": [
        "# Handle missing values (if any)\n",
        "data_clean <- data %>%\n",
        "  tidyr::drop_na()  # Alternatively, you can impute missing values if needed\n",
        "\n",
        "# Ensure target variable is a factor (necessary for classification)\n",
        "data_clean$mq_type <- as.factor(data_clean$mq_type)"
      ],
      "metadata": {
        "id": "r_AYjMvUX_DI"
      },
      "execution_count": null,
      "outputs": []
    },
    {
      "cell_type": "code",
      "source": [
        "# Train-test split (80% training, 20% testing)\n",
        "set.seed(42)\n",
        "train_index <- createDataPartition(data_clean$mq_type, p = 0.8, list = FALSE)\n",
        "train_data <- data_clean[train_index, ]\n",
        "test_data <- data_clean[-train_index, ]"
      ],
      "metadata": {
        "id": "AilBjAADYDj0"
      },
      "execution_count": null,
      "outputs": []
    },
    {
      "cell_type": "code",
      "source": [
        "# Separate features and target for training and testing\n",
        "X_train <- train_data[, !(names(train_data) %in% c(\"File Name\", \"mq_type\", \"Arrival Time\"))]  # Remove non-feature columns\n",
        "y_train <- train_data$mq_type"
      ],
      "metadata": {
        "id": "w2W8tgSnYNBb"
      },
      "execution_count": null,
      "outputs": []
    },
    {
      "cell_type": "code",
      "source": [
        "X_test <- test_data[, !(names(test_data) %in% c(\"File Name\", \"mq_type\", \"Arrival Time\"))]\n",
        "y_test <- test_data$mq_type"
      ],
      "metadata": {
        "id": "ZybhA1LeYUtk"
      },
      "execution_count": null,
      "outputs": []
    },
    {
      "cell_type": "code",
      "source": [
        "# Initialize the Random Forest model\n",
        "rf_model <- randomForest(x = X_train, y = y_train, ntree = 100, random_state = 42)"
      ],
      "metadata": {
        "id": "Lrb-JYdmYca8"
      },
      "execution_count": null,
      "outputs": []
    },
    {
      "cell_type": "code",
      "source": [
        "# Predict the target variable on the test set\n",
        "y_pred_rf <- predict(rf_model, X_test)"
      ],
      "metadata": {
        "id": "VZ0bNBRiYdnv"
      },
      "execution_count": null,
      "outputs": []
    },
    {
      "cell_type": "code",
      "source": [
        "# Evaluate the model's accuracy\n",
        "accuracy_rf <- mean(y_pred_rf == y_test)\n",
        "cat(\"Random Forest Accuracy:\", accuracy_rf, \"\\n\")"
      ],
      "metadata": {
        "colab": {
          "base_uri": "https://localhost:8080/"
        },
        "id": "LjDdabDtYgYL",
        "outputId": "f128ee24-9fc2-4c4b-e476-5a0cbe9c67e0"
      },
      "execution_count": null,
      "outputs": [
        {
          "output_type": "stream",
          "name": "stdout",
          "text": [
            "Random Forest Accuracy: 0.9230769 \n"
          ]
        }
      ]
    },
    {
      "cell_type": "code",
      "source": [
        "# Generate a confusion matrix for a more detailed evaluation\n",
        "conf_matrix_rf <- confusionMatrix(y_pred_rf, y_test)\n",
        "print(conf_matrix_rf)"
      ],
      "metadata": {
        "colab": {
          "base_uri": "https://localhost:8080/"
        },
        "id": "GyPBkUAQYlMY",
        "outputId": "35247946-7a03-4ac0-e8b2-18cf6ced52e5"
      },
      "execution_count": null,
      "outputs": [
        {
          "output_type": "stream",
          "name": "stdout",
          "text": [
            "Confusion Matrix and Statistics\n",
            "\n",
            "            Reference\n",
            "Prediction   deep_mq impact_mq shallow_mq\n",
            "  deep_mq          0         0          0\n",
            "  impact_mq        1        12          0\n",
            "  shallow_mq       0         0          0\n",
            "\n",
            "Overall Statistics\n",
            "                                          \n",
            "               Accuracy : 0.9231          \n",
            "                 95% CI : (0.6397, 0.9981)\n",
            "    No Information Rate : 0.9231          \n",
            "    P-Value [Acc > NIR] : 0.736           \n",
            "                                          \n",
            "                  Kappa : 0               \n",
            "                                          \n",
            " Mcnemar's Test P-Value : NA              \n",
            "\n",
            "Statistics by Class:\n",
            "\n",
            "                     Class: deep_mq Class: impact_mq Class: shallow_mq\n",
            "Sensitivity                 0.00000           1.0000                NA\n",
            "Specificity                 1.00000           0.0000                 1\n",
            "Pos Pred Value                  NaN           0.9231                NA\n",
            "Neg Pred Value              0.92308              NaN                NA\n",
            "Prevalence                  0.07692           0.9231                 0\n",
            "Detection Rate              0.00000           0.9231                 0\n",
            "Detection Prevalence        0.00000           1.0000                 0\n",
            "Balanced Accuracy           0.50000           0.5000                NA\n"
          ]
        }
      ]
    },
    {
      "cell_type": "code",
      "source": [
        "# Optionally, you can check the importance of features\n",
        "feature_importance <- importance(rf_model)\n",
        "print(feature_importance)"
      ],
      "metadata": {
        "colab": {
          "base_uri": "https://localhost:8080/"
        },
        "id": "G9aS4eKyYp5U",
        "outputId": "a8ebee86-e419-4bf1-c603-8761b37e501d"
      },
      "execution_count": null,
      "outputs": [
        {
          "output_type": "stream",
          "name": "stdout",
          "text": [
            "                             MeanDecreaseGini\n",
            "File.Name                           3.3748794\n",
            "Mean.Velocity                       0.0000000\n",
            "Standard.Deviation                  1.6612950\n",
            "Max.Velocity                        1.5313902\n",
            "Min.Velocity                        1.2624079\n",
            "Range.Velocity                      1.2083312\n",
            "Median.Velocity                     0.0000000\n",
            "RMS.Velocity                        1.4758458\n",
            "Energy                              0.0000000\n",
            "Impulse.Factor                      0.9910883\n",
            "Velocity.Derivative.Mean            0.0000000\n",
            "Velocity.Derivative.Std             1.5934426\n",
            "Mean.Velocity.Around.Arrival        0.4236697\n",
            "Max.Velocity.Around.Arrival         1.5505200\n",
            "Arrival.Time                        0.0000000\n",
            "Max.STA.LTA                         1.2590355\n"
          ]
        }
      ]
    }
  ]
}